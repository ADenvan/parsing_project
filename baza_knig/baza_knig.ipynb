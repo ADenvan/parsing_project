{
 "cells": [
  {
   "cell_type": "code",
   "execution_count": 15,
   "metadata": {
    "ExecuteTime": {
     "end_time": "2025-04-11T15:28:55.433183Z",
     "start_time": "2025-04-11T15:28:55.428143Z"
    }
   },
   "outputs": [
    {
     "data": {
      "text/plain": [
       "'2025-04-11 18:28:55'"
      ]
     },
     "execution_count": 15,
     "metadata": {},
     "output_type": "execute_result"
    }
   ],
   "source": [
    "# datetime.now().strftime('%Y-%m-%d %H:%M:%S')"
   ]
  },
  {
   "cell_type": "code",
   "execution_count": null,
   "metadata": {
    "ExecuteTime": {
     "end_time": "2025-04-14T15:06:06.694336Z",
     "start_time": "2025-04-14T15:05:58.840886Z"
    }
   },
   "outputs": [],
   "source": [
    "from datetime import datetime\n",
    "import numpy as np\n",
    "import requests\n",
    "from bs4 import BeautifulSoup\n",
    "import pandas as pd\n",
    "import gspread\n",
    "import re\n",
    "# GET -Получить данные со страници.\n",
    "# POST -Передать данные или авторизацию.\n",
    "\n",
    "header = {\n",
    "    'User-Agent': 'Mozilla/5.0 (Windows NT 10.0; Win64; x64) AppleWebKit/537.36 (KHTML, like Gecko) Chrome/120.0.0.0 Safari/537.36'\n",
    "}\n",
    "page = 1\n",
    "max_page = 1\n",
    "data = []\n",
    "\n",
    "while page <= max_page:\n",
    "\n",
    "    link = (f'https://baza-knig.rip/fantastika-fenteze/page/{page}/')\n",
    "\n",
    "    response = requests.get(link, headers=header)\n",
    "    response.encoding = 'utf-8'  # Устанавливаем правильную кодировку\n",
    "\n",
    "    soup = BeautifulSoup(response.text, 'html.parser')\n",
    "    block = soup.find('div', id=\"dle-content\")\n",
    "\n",
    "\n",
    "    # Ищем все элементы с книгами\n",
    "    books = block.find_all('div', class_='short')\n",
    "\n",
    "\n",
    "    for book in books:\n",
    "        book_data = {}\n",
    "\n",
    "        # Извлекаем заголовок книги\n",
    "        title = book.find('div', class_='short-title').text.strip()\n",
    "        book_data[\"Название\"] = title\n",
    "\n",
    "        # Обрабатываем мета-данные книги\n",
    "        for li in book.find('ul', class_='reset short-items').find_all('li'):\n",
    "            parts = li.text.strip().split(':', 1) # Делим по первому вхождению \":\n",
    "            if len(parts) == 2:\n",
    "                key, value = parts\n",
    "                book_data[key] = value\n",
    "\n",
    "        data.append(book_data)\n",
    "    page += 1\n",
    "\n",
    "\n",
    "    # Эта конструкция помодет избавиться о Многоточей в страницах. И продолжеть Нумерацию страниц.\n",
    "    button_navigation = soup.find('div', class_='bottom-nav ignore-select')\n",
    "    pages = [p.text.strip() for p in button_navigation.find('div', class_=\"navigation\")]\n",
    "    int_pages = []\n",
    "    for p in pages:\n",
    "        try:\n",
    "            n = int(p)\n",
    "            int_pages.append(n)\n",
    "        except:\n",
    "            continue\n",
    "\n",
    "\n",
    "# Удаление ненужныз символов.\n",
    "patterns = {\n",
    "    r\"Фантастика\": \"Фан\",\n",
    "    r\"фэнтези\": \"фэн\",\n",
    "    r\",\": \"/\",\n",
    "    r\" \": \"\"\n",
    "}\n",
    "\n",
    "for item in data:\n",
    "    genre = item[\"Жанр\"]\n",
    "    for pattern, replacement in patterns.items():\n",
    "        genre = re.sub(pattern, replacement, genre, flags=re.IGNORECASE)\n",
    "    item[\"Жанр\"] = genre\n",
    "\n",
    "\n",
    "\n",
    "\n",
    "# df = pd.DataFrame(data)\n",
    "df = pd.DataFrame(data).fillna(\"нет данных\")\n",
    "df['timestamp'] = datetime.now().strftime(\"%Y-%m-%d %H:%M:%S\")\n",
    "# df.head()\n",
    "\n",
    "\n",
    "# print(len(data))\n"
   ]
  },
  {
   "cell_type": "code",
   "execution_count": 18,
   "metadata": {
    "ExecuteTime": {
     "end_time": "2025-04-11T15:36:17.843340Z",
     "start_time": "2025-04-11T15:36:15.197852Z"
    }
   },
   "outputs": [
    {
     "data": {
      "text/plain": [
       "{'spreadsheetId': '1b3GmBL5gA5px_BdnN37sSslnGlQgrnDqX-jiQTtKSVI',\n",
       " 'updatedRange': \"'Лист1'!A1:H12\",\n",
       " 'updatedRows': 12,\n",
       " 'updatedColumns': 8,\n",
       " 'updatedCells': 96}"
      ]
     },
     "execution_count": 18,
     "metadata": {},
     "output_type": "execute_result"
    }
   ],
   "source": [
    "gc = gspread.service_account(filename='creds.json')\n",
    "wks = gc.open(\"web_parsing_baza_knig\").sheet1\n",
    "wks.update([df.columns.values.tolist()] + df.values.tolist())"
   ]
  },
  {
   "cell_type": "code",
   "execution_count": 10,
   "metadata": {
    "ExecuteTime": {
     "end_time": "2025-04-14T15:15:26.710660Z",
     "start_time": "2025-04-14T15:15:26.691462Z"
    }
   },
   "outputs": [
    {
     "data": {
      "text/plain": [
       "[dict_keys(['like-dis-comm']),\n",
       " dict_keys(['like-dis-comm']),\n",
       " dict_keys(['like-dis-comm']),\n",
       " dict_keys(['like-dis-comm']),\n",
       " dict_keys(['like-dis-comm']),\n",
       " dict_keys(['like-dis-comm']),\n",
       " dict_keys(['like-dis-comm']),\n",
       " dict_keys(['like-dis-comm']),\n",
       " dict_keys(['like-dis-comm']),\n",
       " dict_keys(['like-dis-comm']),\n",
       " dict_keys(['like-dis-comm'])]"
      ]
     },
     "execution_count": 10,
     "metadata": {},
     "output_type": "execute_result"
    }
   ],
   "source": [
    "status_kicke = []\n",
    "for item in block.find_all('div', class_=\"short-bottom\"):\n",
    "    like_dislike = {}\n",
    "    res = item.text.strip().split(\"\\n\")\n",
    "    # like_dislike['like-dis-comm'] = f'like = {res[1]}/dis = {res[2]}/comment = {res[3]}'\n",
    "    like_dislike['like-dis-comm'] = f'like = {res[1]}/dis = {res[2]}/comment = {res[3]}'\n",
    "    status_kicke.append(like_dislike)\n",
    "\n",
    "# log[\"print\"] =\n",
    "# df[status_kicke[0].keys()] = status_kicke\n",
    "# df"
   ]
  },
  {
   "cell_type": "code",
   "execution_count": 3,
   "metadata": {
    "ExecuteTime": {
     "end_time": "2025-04-10T16:58:30.251347Z",
     "start_time": "2025-04-10T16:58:25.335189Z"
    }
   },
   "outputs": [
    {
     "data": {
      "text/plain": [
       "{'spreadsheetId': '1b3GmBL5gA5px_BdnN37sSslnGlQgrnDqX-jiQTtKSVI',\n",
       " 'replies': [{}]}"
      ]
     },
     "execution_count": 3,
     "metadata": {},
     "output_type": "execute_result"
    }
   ],
   "source": [
    "import gspread\n",
    "\n",
    "gc = gspread.service_account(filename='creds.json')\n",
    "\n",
    "# Open a sheet from a spreadsheet in one go\n",
    "wks = gc.open(\"web_parsing_baza_knig\").sheet1\n",
    "\n",
    "# Update a range of cells using the top left corner address\n",
    "wks.update([[1, 2], [3, 4]], 'A1')\n",
    "\n",
    "# Or update a single cell\n",
    "wks.update_acell('B42', \"it's down there somewhere, let me take another look.\")\n",
    "\n",
    "# Format the header\n",
    "wks.format('A1:B1', {'textFormat': {'bold': True}})"
   ]
  }
 ],
 "metadata": {
  "kernelspec": {
   "display_name": "Python 3",
   "language": "python",
   "name": "python3"
  },
  "language_info": {
   "codemirror_mode": {
    "name": "ipython",
    "version": 3
   },
   "file_extension": ".py",
   "mimetype": "text/x-python",
   "name": "python",
   "nbconvert_exporter": "python",
   "pygments_lexer": "ipython3",
   "version": "3.10.11"
  }
 },
 "nbformat": 4,
 "nbformat_minor": 2
}
